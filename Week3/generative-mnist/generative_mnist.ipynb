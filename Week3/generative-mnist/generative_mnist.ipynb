{
  "cells": [
    {
      "cell_type": "markdown",
      "metadata": {
        "id": "K_byy65qTIPA"
      },
      "source": [
        "# Gaussian generative models for handwritten digit classification"
      ]
    },
    {
      "cell_type": "markdown",
      "metadata": {
        "id": "HjUCxXfwTIPF"
      },
      "source": [
        "Recall that the 1-NN classifier yielded a 3.09% test error rate on the MNIST data set of handwritten digits. We will now see that a Gaussian generative model does almost as well, while being significantly faster and more compact."
      ]
    },
    {
      "cell_type": "markdown",
      "metadata": {
        "id": "6YyqlriFTIPF"
      },
      "source": [
        "## 1. Set up notebook and load in data"
      ]
    },
    {
      "cell_type": "markdown",
      "metadata": {
        "id": "Y4DNXYVTTIPG"
      },
      "source": [
        "As usual, we start by importing the required packages and data. For this notebook we will be using the *entire* `MNIST` dataset. The code below defines some helper functions that will load `MNIST` onto your computer."
      ]
    },
    {
      "cell_type": "code",
      "execution_count": null,
      "metadata": {
        "collapsed": true,
        "id": "W7D_ULSGTIPG"
      },
      "outputs": [],
      "source": [
        "%matplotlib inline\n",
        "import matplotlib.pyplot as plt\n",
        "import gzip, os, sys\n",
        "import numpy as np\n",
        "from scipy.stats import multivariate_normal\n",
        "\n",
        "if sys.version_info[0] == 2:\n",
        "    from urllib import urlretrieve\n",
        "else:\n",
        "    from urllib.request import urlretrieve"
      ]
    },
    {
      "cell_type": "code",
      "execution_count": 8,
      "metadata": {
        "collapsed": true,
        "id": "Ph-mYcxHTIPH"
      },
      "outputs": [],
      "source": [
        "# Function that downloads a specified MNIST data file from Yann Le Cun's website\n",
        "def download(filename, source='https://fdp.codes/'):\n",
        "    print(\"Downloading %s\" % filename)\n",
        "    urlretrieve(source + filename, filename)\n",
        "\n",
        "# Invokes download() if necessary, then reads in images\n",
        "def load_mnist_images(filename):\n",
        "    if not os.path.exists(filename):\n",
        "        download(filename)\n",
        "    with gzip.open(filename, 'rb') as f:\n",
        "        data = np.frombuffer(f.read(), np.uint8, offset=16)\n",
        "    data = data.reshape(-1,784)\n",
        "    return data\n",
        "\n",
        "def load_mnist_labels(filename):\n",
        "    if not os.path.exists(filename):\n",
        "        download(filename)\n",
        "    with gzip.open(filename, 'rb') as f:\n",
        "        data = np.frombuffer(f.read(), np.uint8, offset=8)\n",
        "    return data"
      ]
    },
    {
      "cell_type": "markdown",
      "metadata": {
        "id": "VidsDbeBTIPI"
      },
      "source": [
        "Now load in the training set and test set"
      ]
    },
    {
      "cell_type": "code",
      "execution_count": 9,
      "metadata": {
        "id": "fGBjoUzdTIPI"
      },
      "outputs": [],
      "source": [
        "## Load the training set\n",
        "train_data = load_mnist_images('train-images-idx3-ubyte.gz')\n",
        "train_labels = load_mnist_labels('train-labels-idx1-ubyte.gz')\n",
        "\n",
        "## Load the testing set\n",
        "test_data = load_mnist_images('t10k-images-idx3-ubyte.gz')\n",
        "test_labels = load_mnist_labels('t10k-labels-idx1-ubyte.gz')"
      ]
    },
    {
      "cell_type": "markdown",
      "metadata": {
        "id": "ueJ3yf33TIPJ"
      },
      "source": [
        "The function **displaychar** shows a single MNIST digit. To do this, it first has to reshape the 784-dimensional vector into a 28x28 image."
      ]
    },
    {
      "cell_type": "code",
      "execution_count": 10,
      "metadata": {
        "collapsed": true,
        "id": "xyHvHKjpTIPJ"
      },
      "outputs": [],
      "source": [
        "def displaychar(image):\n",
        "    plt.imshow(np.reshape(image, (28,28)), cmap=plt.cm.gray)\n",
        "    plt.axis('off')\n",
        "    plt.show()"
      ]
    },
    {
      "cell_type": "code",
      "execution_count": 12,
      "metadata": {
        "id": "7jrnblTGTIPK",
        "outputId": "527b90fa-2936-4e18-9f15-7f039ca0dbc1",
        "colab": {
          "base_uri": "https://localhost:8080/",
          "height": 406
        }
      },
      "outputs": [
        {
          "output_type": "display_data",
          "data": {
            "text/plain": [
              "<Figure size 640x480 with 1 Axes>"
            ],
            "image/png": "[encoded data removed]"
          },
          "metadata": {}
        }
      ],
      "source": [
        "displaychar(train_data[58])"
      ]
    },
    {
      "cell_type": "markdown",
      "metadata": {
        "id": "RDm8uVYUTIPK"
      },
      "source": [
        "The training set consists of 60,000 images. Thus `train_data` should be a 60000x784 array while `train_labels` should be 60000x1. Let's check."
      ]
    },
    {
      "cell_type": "code",
      "execution_count": 13,
      "metadata": {
        "id": "Rqh6QGE2TIPL",
        "outputId": "48eb3954-8c83-42df-9960-9b0dcd113d3b",
        "colab": {
          "base_uri": "https://localhost:8080/"
        }
      },
      "outputs": [
        {
          "output_type": "execute_result",
          "data": {
            "text/plain": [
              "((60000, 784), (60000,))"
            ]
          },
          "metadata": {},
          "execution_count": 13
        }
      ],
      "source": [
        "train_data.shape, train_labels.shape"
      ]
    },
    {
      "cell_type": "markdown",
      "metadata": {
        "id": "rmT4rgWiTIPL"
      },
      "source": [
        "## 2. Fit a Gaussian generative model to the training data"
      ]
    },
    {
      "cell_type": "markdown",
      "metadata": {
        "id": "ZoJy92Q7TIPL"
      },
      "source": [
        "**<font color=\"magenta\">For you to do:</font>** Define a function, **fit_generative_model**, that takes as input a training set (data `x` and labels `y`) and fits a Gaussian generative model to it. It should return the parameters of this generative model; for each label `j = 0,1,...,9`, we have:\n",
        "* `pi[j]`: the frequency of that label\n",
        "* `mu[j]`: the 784-dimensional mean vector\n",
        "* `sigma[j]`: the 784x784 covariance matrix\n",
        "\n",
        "This means that `pi` is 10x1, `mu` is 10x784, and `sigma` is 10x784x784.\n",
        "\n",
        "We have already seen how to fit a Gaussian generative model in the Winery example, but now there is an added ingredient. <font color=\"magenta\">The empirical covariances are very likely to be singular (or close to singular), which means that we won't be able to do calculations with them</font>. Thus it is important to **regularize** these matrices. The standard way of doing this is to add `cI` to them, where `c` is some constant and `I` is the 784-dimensional identity matrix. (To put it another way, we compute the empirical covariances and then increase their diagonal entries by some constant `c`.)\n",
        "\n",
        "This modification is guaranteed to yield covariance matrices that are non-singular, for any `c > 0`, no matter how small. But this doesn't mean that we should make `c` as small as possible. Indeed, `c` is now a parameter, and by setting it appropriately, we can improve the performance of the model. We will study **regularization** in greater detail over the coming weeks.\n",
        "\n",
        "Your routine needs to choose a good setting of `c`. Crucially, this needs to be done using the training set alone. So you might try setting aside part of the training set as a validation set, or using some kind of cross-validation."
      ]
    },
    {
      "cell_type": "code",
      "execution_count": 14,
      "metadata": {
        "collapsed": true,
        "id": "ZZNFpTzpTIPL"
      },
      "outputs": [],
      "source": [
        "def fit_generative_model(x,y):\n",
        "    k = 10  # labels 0,1,...,k-1\n",
        "    d = (x.shape)[1]  # number of features\n",
        "    mu = np.zeros((k,d))\n",
        "    sigma = np.zeros((k,d,d))\n",
        "    pi = np.zeros(k)\n",
        "    ###\n",
        "    ### Your code goes here\n",
        "    for label in range(k):\n",
        "        indices = (y == label)\n",
        "        mu[label] = np.mean(x[indices,:], axis=0)\n",
        "        sigma[label] = np.cov(x[indices,:], rowvar=0, bias=1)\n",
        "        pi[label] = float(sum(indices))/float(len(y))\n",
        "\n",
        "    ###\n",
        "    # Halt and return parameters\n",
        "    return mu, sigma, pi"
      ]
    },
    {
      "cell_type": "code",
      "execution_count": 15,
      "metadata": {
        "id": "e3ae7CjqTIPL"
      },
      "outputs": [],
      "source": [
        "# cross validation\n",
        "np.random.seed(0)\n",
        "perm = np.random.permutation(60000)\n",
        "trainx = train_data[perm[0:50000],:]\n",
        "trainy = train_labels[perm[0:50000]]\n",
        "cvx = train_data[perm[50000:60000], :]\n",
        "cvy = train_labels[perm[50000:60000]]"
      ]
    },
    {
      "cell_type": "markdown",
      "metadata": {
        "id": "t4q8w7ZFTIPM"
      },
      "source": [
        "Okay, let's try out your function. In particular, we will use **displaychar** to visualize the means of the Gaussians for the first three digits. You can try the other digits on your own."
      ]
    },
    {
      "cell_type": "code",
      "execution_count": 16,
      "metadata": {
        "id": "Dpqgc3BCTIPM",
        "outputId": "c48c231a-f7cd-4958-c6dc-be9b899d6a2d",
        "colab": {
          "base_uri": "https://localhost:8080/",
          "height": 1000
        }
      },
      "outputs": [
        {
          "output_type": "display_data",
          "data": {
            "text/plain": [
              "<Figure size 640x480 with 1 Axes>"
            ],
            "image/png": "[encoded data removed]"
          },
          "metadata": {}
        },
        {
          "output_type": "display_data",
          "data": {
            "text/plain": [
              "<Figure size 640x480 with 1 Axes>"
            ],
            "image/png": "[encoded data removed]"
          },
          "metadata": {}
        },
        {
          "output_type": "display_data",
          "data": {
            "text/plain": [
              "<Figure size 640x480 with 1 Axes>"
            ],
            "image/png": "[encoded data removed]"
          },
          "metadata": {}
        }
      ],
      "source": [
        "mu, sigma, pi = fit_generative_model(trainx, trainy)\n",
        "displaychar(mu[0])\n",
        "displaychar(mu[1])\n",
        "displaychar(mu[2])"
      ]
    },
    {
      "cell_type": "markdown",
      "metadata": {
        "id": "aUGR2JrLTIPM"
      },
      "source": [
        "## 3. Make predictions on test data"
      ]
    },
    {
      "cell_type": "markdown",
      "metadata": {
        "id": "BxKpuIsmTIPM"
      },
      "source": [
        "Now let's see how many errors your model makes on the test set."
      ]
    },
    {
      "cell_type": "code",
      "execution_count": 17,
      "metadata": {
        "id": "VA6wIQ4zTIPM",
        "outputId": "4ac6013e-4e15-4c1f-ff23-30ae9036cabb",
        "colab": {
          "base_uri": "https://localhost:8080/"
        }
      },
      "outputs": [
        {
          "output_type": "stream",
          "name": "stdout",
          "text": [
            "Your model makes 440 errors out of 10000\n",
            "Your model makes 438 errors out of 10000\n",
            "Your model makes 440 errors out of 10000\n",
            "Your model makes 438 errors out of 10000\n",
            "Your model makes 437 errors out of 10000\n",
            "Your model makes 437 errors out of 10000\n",
            "Your model makes 436 errors out of 10000\n",
            "Your model makes 436 errors out of 10000\n",
            "Your model makes 434 errors out of 10000\n",
            "Your model makes 433 errors out of 10000\n"
          ]
        }
      ],
      "source": [
        "# Compute log Pr(label|image) for each [test image,label] pair.\n",
        "k = 10\n",
        "for c in range(20,30):\n",
        "    c = np.identity(784)*(100*c)\n",
        "    score = np.zeros((len(test_labels),k))\n",
        "    sigma_c = c + sigma\n",
        "    for label in range(0,k):\n",
        "        rv = multivariate_normal(mean=mu[label], cov=sigma_c[label])\n",
        "        for i in range(0,len(test_labels)):\n",
        "           score[i,label] = np.log(pi[label]) + rv.logpdf(test_data[i,:])\n",
        "    predictions = np.argmax(score, axis=1)\n",
        "    # Finally, tally up score\n",
        "    errors = np.sum(predictions != test_labels)\n",
        "    print (\"Your model makes \" + str(errors) + \" errors out of 10000\")"
      ]
    },
    {
      "cell_type": "markdown",
      "metadata": {
        "id": "dpf7w-9ITIPN"
      },
      "source": [
        "## 4. Quick exercises"
      ]
    },
    {
      "cell_type": "markdown",
      "metadata": {
        "id": "RaetB0ulTIPN"
      },
      "source": [
        "*You will need to answer variants of these questions as part of this week's assignment*."
      ]
    },
    {
      "cell_type": "markdown",
      "metadata": {
        "id": "icPQY3i0TIPN"
      },
      "source": [
        "<font color=\"magenta\">Exercise 1:</font> What happens if you do not regularize the covariance matrices?"
      ]
    },
    {
      "cell_type": "markdown",
      "metadata": {
        "id": "04GQV6itTIPN"
      },
      "source": [
        "<font color=\"magenta\">Exercise 2:</font> What happens if you set the value of `c` too high, for instance to one billion? Do you understand why this happens?"
      ]
    },
    {
      "cell_type": "markdown",
      "metadata": {
        "id": "B1gUHZYfTIPN"
      },
      "source": [
        "<font color=\"magenta\">Exercise 3:</font> What value of c did you end up using? How many errors did your model make on the training set?"
      ]
    },
    {
      "cell_type": "markdown",
      "metadata": {
        "id": "yNMuWXl4TIPN"
      },
      "source": [
        "<font color=\"magenta\">If you have the time</font>: We have talked about using the same regularization constant `c` for all ten classes. What about using a different value of `c` for each class? How would you go about choosing these? Can you get better performance in this way?"
      ]
    }
  ],
  "metadata": {
    "kernelspec": {
      "display_name": "Python 3",
      "language": "python",
      "name": "python3"
    },
    "language_info": {
      "codemirror_mode": {
        "name": "ipython",
        "version": 3
      },
      "file_extension": ".py",
      "mimetype": "text/x-python",
      "name": "python",
      "nbconvert_exporter": "python",
      "pygments_lexer": "ipython3",
      "version": "3.6.4"
    },
    "toc": {
      "colors": {
        "hover_highlight": "#DAA520",
        "navigate_num": "#000000",
        "navigate_text": "#333333",
        "running_highlight": "#FF0000",
        "selected_highlight": "#FFD700",
        "sidebar_border": "#EEEEEE",
        "wrapper_background": "#FFFFFF"
      },
      "moveMenuLeft": true,
      "nav_menu": {
        "height": "12px",
        "width": "252px"
      },
      "navigate_menu": true,
      "number_sections": false,
      "sideBar": true,
      "threshold": 4,
      "toc_cell": false,
      "toc_section_display": "block",
      "toc_window_display": false,
      "widenNotebook": false
    },
    "colab": {
      "provenance": []
    }
  },
  "nbformat": 4,
  "nbformat_minor": 0
}