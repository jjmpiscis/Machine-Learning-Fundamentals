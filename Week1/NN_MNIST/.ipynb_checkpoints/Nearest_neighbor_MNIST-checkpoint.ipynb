{
  "cells": [
    {
      "cell_type": "markdown",
      "metadata": {
        "id": "PpA3TjDqqhB8"
      },
      "source": [
        "# Nearest neighbor for handwritten digit recognition\n",
        "\n",
        "In this notebook we will build a classifier that takes an image of a handwritten digit and outputs a label 0-9. We will look at a particularly simple strategy for this problem known as the **nearest neighbor classifier**.\n",
        "\n",
        "To run this notebook you should have the following Python packages installed:\n",
        "* `numpy`\n",
        "* `matplotlib`\n",
        "* `sklearn`"
      ]
    },
    {
      "cell_type": "markdown",
      "metadata": {
        "id": "NvRCkdPuqhCA"
      },
      "source": [
        "## 1. The MNIST dataset\n",
        "\n",
        "`MNIST` is a classic dataset in machine learning, consisting of 28x28 gray-scale images handwritten digits. The original training set contains 60,000 examples and the test set contains 10,000 examples. In this notebook we will be working with a subset of this data: a training set of 7,500 examples and a test set of 1,000 examples."
      ]
    },
    {
      "cell_type": "code",
      "execution_count": 5,
      "metadata": {
        "collapsed": true,
        "id": "TNn_b2qaqhCB"
      },
      "outputs": [],
      "source": [
        "%matplotlib inline\n",
        "import numpy as np\n",
        "import matplotlib.pyplot as plt\n",
        "import time\n",
        "\n",
        "## Load the training set\n",
        "train_data = np.load('MNIST/train_data.npy')\n",
        "train_labels = np.load('MNIST/train_labels.npy')\n",
        "\n",
        "## Load the testing set\n",
        "test_data = np.load('MNIST/test_data.npy')\n",
        "test_labels = np.load('MNIST/test_labels.npy')"
      ]
    },
    {
      "cell_type": "code",
      "execution_count": 6,
      "metadata": {
        "id": "NnFP9hMxqhCD",
        "outputId": "4a7c930a-15e3-4ea1-e172-8ed9eb4a12bd",
        "colab": {
          "base_uri": "https://localhost:8080/"
        }
      },
      "outputs": [
        {
          "output_type": "stream",
          "name": "stdout",
          "text": [
            "Training dataset dimensions:  (7500, 784)\n",
            "Number of training labels:  7500\n",
            "Testing dataset dimensions:  (1000, 784)\n",
            "Number of testing labels:  1000\n"
          ]
        }
      ],
      "source": [
        "## Print out their dimensions\n",
        "print(\"Training dataset dimensions: \", np.shape(train_data))\n",
        "print(\"Number of training labels: \", len(train_labels))\n",
        "print(\"Testing dataset dimensions: \", np.shape(test_data))\n",
        "print(\"Number of testing labels: \", len(test_labels))"
      ]
    },
    {
      "cell_type": "code",
      "execution_count": 7,
      "metadata": {
        "id": "C2lHhM8XqhCE",
        "outputId": "f7ce051e-7fe0-468f-8605-e9edae489d04",
        "colab": {
          "base_uri": "https://localhost:8080/"
        }
      },
      "outputs": [
        {
          "output_type": "stream",
          "name": "stdout",
          "text": [
            "Training set distribution:\n",
            "{np.uint8(0): np.int64(750), np.uint8(1): np.int64(750), np.uint8(2): np.int64(750), np.uint8(3): np.int64(750), np.uint8(4): np.int64(750), np.uint8(5): np.int64(750), np.uint8(6): np.int64(750), np.uint8(7): np.int64(750), np.uint8(8): np.int64(750), np.uint8(9): np.int64(750)}\n",
            "Test set distribution:\n",
            "{np.uint8(0): np.int64(100), np.uint8(1): np.int64(100), np.uint8(2): np.int64(100), np.uint8(3): np.int64(100), np.uint8(4): np.int64(100), np.uint8(5): np.int64(100), np.uint8(6): np.int64(100), np.uint8(7): np.int64(100), np.uint8(8): np.int64(100), np.uint8(9): np.int64(100)}\n"
          ]
        }
      ],
      "source": [
        "## Compute the number of examples of each digit\n",
        "train_digits, train_counts = np.unique(train_labels, return_counts=True)\n",
        "print(\"Training set distribution:\")\n",
        "print(dict(zip(train_digits, train_counts)))\n",
        "\n",
        "test_digits, test_counts = np.unique(test_labels, return_counts=True)\n",
        "print(\"Test set distribution:\")\n",
        "print(dict(zip(test_digits, test_counts)))"
      ]
    },
    {
      "cell_type": "markdown",
      "metadata": {
        "id": "qaT7y3SYqhCE"
      },
      "source": [
        "## 2. Visualizing the data\n",
        "Each data point is stored as 784-dimensional vector. To visualize a data point, we first reshape it to a 28x28 image."
      ]
    },
    {
      "cell_type": "code",
      "execution_count": 8,
      "metadata": {
        "id": "qk0q0ztBqhCF",
        "outputId": "86d20e8c-766f-4c7b-d85e-0606ebeb6d69",
        "colab": {
          "base_uri": "https://localhost:8080/",
          "height": 832
        }
      },
      "outputs": [
        {
          "output_type": "display_data",
          "data": {
            "text/plain": [
              "<Figure size 640x480 with 1 Axes>"
            ],
            "image/png": "[encoded data removed]"
          },
          "metadata": {}
        },
        {
          "output_type": "stream",
          "name": "stdout",
          "text": [
            "Label 9\n"
          ]
        },
        {
          "output_type": "display_data",
          "data": {
            "text/plain": [
              "<Figure size 640x480 with 1 Axes>"
            ],
            "image/png": "[encoded data removed]"
          },
          "metadata": {}
        },
        {
          "output_type": "stream",
          "name": "stdout",
          "text": [
            "Label 0\n"
          ]
        }
      ],
      "source": [
        "## Define a function that displays a digit given its vector representation\n",
        "def show_digit(x):\n",
        "    plt.axis('off')\n",
        "    plt.imshow(x.reshape((28,28)), cmap=plt.cm.gray)\n",
        "    plt.show()\n",
        "    return\n",
        "\n",
        "## Define a function that takes an index into a particular data set (\"train\" or \"test\") and displays that image.\n",
        "def vis_image(index, dataset=\"train\"):\n",
        "    if(dataset==\"train\"):\n",
        "        show_digit(train_data[index,])\n",
        "        label = train_labels[index]\n",
        "    else:\n",
        "        show_digit(test_data[index,])\n",
        "        label = test_labels[index]\n",
        "    print(\"Label \" + str(label))\n",
        "    return\n",
        "\n",
        "## View the first data point in the training set\n",
        "vis_image(0, \"train\")\n",
        "\n",
        "## Now view the first data point in the test set\n",
        "vis_image(0, \"test\")"
      ]
    },
    {
      "cell_type": "markdown",
      "metadata": {
        "collapsed": true,
        "id": "DnDlJaMlqhCF"
      },
      "source": [
        "## 3. Squared Euclidean distance\n",
        "\n",
        "To compute nearest neighbors in our data set, we need to first be able to compute distances between data points. A natural distance function is _Euclidean distance_: for two vectors $x, y \\in \\mathbb{R}^d$, their Euclidean distance is defined as\n",
        "$$\\|x - y\\| = \\sqrt{\\sum_{i=1}^d (x_i - y_i)^2}.$$\n",
        "Often we omit the square root, and simply compute _squared Euclidean distance_:\n",
        "$$\\|x - y\\|^2 = \\sum_{i=1}^d (x_i - y_i)^2.$$\n",
        "For the purposes of nearest neighbor computations, the two are equivalent: for three vectors $x, y, z \\in \\mathbb{R}^d$, we have $\\|x - y\\| \\leq \\|x - z\\|$ if and only if $\\|x - y\\|^2 \\leq \\|x - z\\|^2$.\n",
        "\n",
        "Now we just need to be able to compute squared Euclidean distance. The following function does so."
      ]
    },
    {
      "cell_type": "code",
      "execution_count": 9,
      "metadata": {
        "id": "C3ogmihVqhCG",
        "outputId": "41e4f025-fb40-40c3-9e48-cbcc56e96246",
        "colab": {
          "base_uri": "https://localhost:8080/"
        }
      },
      "outputs": [
        {
          "output_type": "stream",
          "name": "stdout",
          "text": [
            "Distance from 7 to 1:  5357193.0\n",
            "Distance from 7 to 2:  12451684.0\n",
            "Distance from 7 to 7:  5223403.0\n"
          ]
        }
      ],
      "source": [
        "## Computes squared Euclidean distance between two vectors.\n",
        "def squared_dist(x,y):\n",
        "    return np.sum(np.square(x-y))\n",
        "\n",
        "## Compute distance between a seven and a one in our training set.\n",
        "print(\"Distance from 7 to 1: \", squared_dist(train_data[4,],train_data[5,]))\n",
        "\n",
        "## Compute distance between a seven and a two in our training set.\n",
        "print(\"Distance from 7 to 2: \", squared_dist(train_data[4,],train_data[1,]))\n",
        "\n",
        "## Compute distance between two seven's in our training set.\n",
        "print(\"Distance from 7 to 7: \", squared_dist(train_data[4,],train_data[7,]))"
      ]
    },
    {
      "cell_type": "markdown",
      "metadata": {
        "id": "orR0v8wOqhCH"
      },
      "source": [
        "## 4. Computing nearest neighbors\n",
        "\n",
        "Now that we have a distance function defined, we can now turn to nearest neighbor classification."
      ]
    },
    {
      "cell_type": "code",
      "execution_count": 10,
      "metadata": {
        "collapsed": true,
        "id": "S2cE1TmPqhCH"
      },
      "outputs": [],
      "source": [
        "## Takes a vector x and returns the index of its nearest neighbor in train_data\n",
        "def find_NN(x):\n",
        "    # Compute distances from x to every row in train_data\n",
        "    distances = [squared_dist(x,train_data[i,]) for i in range(len(train_labels))]\n",
        "    # Get the index of the smallest distance\n",
        "    return np.argmin(distances)\n",
        "\n",
        "## Takes a vector x and returns the class of its nearest neighbor in train_data\n",
        "def NN_classifier(x):\n",
        "    # Get the index of the the nearest neighbor\n",
        "    index = find_NN(x)\n",
        "    # Return its class\n",
        "    return train_labels[index]"
      ]
    },
    {
      "cell_type": "code",
      "execution_count": 11,
      "metadata": {
        "id": "m6gwWGczqhCI",
        "outputId": "46400c1a-2df6-4bb7-ee05-d593a6fc5e43",
        "colab": {
          "base_uri": "https://localhost:8080/",
          "height": 924
        }
      },
      "outputs": [
        {
          "output_type": "stream",
          "name": "stdout",
          "text": [
            "A success case:\n",
            "NN classification:  0\n",
            "True label:  0\n",
            "The test image:\n"
          ]
        },
        {
          "output_type": "display_data",
          "data": {
            "text/plain": [
              "<Figure size 640x480 with 1 Axes>"
            ],
            "image/png": "[encoded data removed]"
          },
          "metadata": {}
        },
        {
          "output_type": "stream",
          "name": "stdout",
          "text": [
            "Label 0\n",
            "The corresponding nearest neighbor image:\n"
          ]
        },
        {
          "output_type": "display_data",
          "data": {
            "text/plain": [
              "<Figure size 640x480 with 1 Axes>"
            ],
            "image/png": "[encoded data removed]"
          },
          "metadata": {}
        },
        {
          "output_type": "stream",
          "name": "stdout",
          "text": [
            "Label 0\n"
          ]
        }
      ],
      "source": [
        "## A success case:\n",
        "print(\"A success case:\")\n",
        "print(\"NN classification: \", NN_classifier(test_data[0,]))\n",
        "print(\"True label: \", test_labels[0])\n",
        "print(\"The test image:\")\n",
        "vis_image(0, \"test\")\n",
        "print(\"The corresponding nearest neighbor image:\")\n",
        "vis_image(find_NN(test_data[0,]), \"train\")"
      ]
    },
    {
      "cell_type": "code",
      "execution_count": 12,
      "metadata": {
        "id": "NguN6yxUqhCI",
        "outputId": "a4c43978-2f17-43b1-d75d-1d0bd555fabe",
        "colab": {
          "base_uri": "https://localhost:8080/",
          "height": 924
        }
      },
      "outputs": [
        {
          "output_type": "stream",
          "name": "stdout",
          "text": [
            "A failure case:\n",
            "NN classification:  2\n",
            "True label:  3\n",
            "The test image:\n"
          ]
        },
        {
          "output_type": "display_data",
          "data": {
            "text/plain": [
              "<Figure size 640x480 with 1 Axes>"
            ],
            "image/png": "[encoded data removed]"
          },
          "metadata": {}
        },
        {
          "output_type": "stream",
          "name": "stdout",
          "text": [
            "Label 3\n",
            "The corresponding nearest neighbor image:\n"
          ]
        },
        {
          "output_type": "display_data",
          "data": {
            "text/plain": [
              "<Figure size 640x480 with 1 Axes>"
            ],
            "image/png": "[encoded data removed]"
          },
          "metadata": {}
        },
        {
          "output_type": "stream",
          "name": "stdout",
          "text": [
            "Label 2\n"
          ]
        }
      ],
      "source": [
        "## A failure case:\n",
        "print(\"A failure case:\")\n",
        "print(\"NN classification: \", NN_classifier(test_data[39,]))\n",
        "print(\"True label: \", test_labels[39])\n",
        "print(\"The test image:\")\n",
        "vis_image(39, \"test\")\n",
        "print(\"The corresponding nearest neighbor image:\")\n",
        "vis_image(find_NN(test_data[39,]), \"train\")"
      ]
    },
    {
      "cell_type": "markdown",
      "metadata": {
        "id": "tgaHvB4DqhCJ"
      },
      "source": [
        "## 5. For you to try\n",
        "The above two examples show the results of the NN classifier on test points number 0 and 39.\n",
        "\n",
        "Now try test point number 100.\n",
        "* What is the index of its nearest neighbor in the training set? _Record the answer: you will enter it as part of this week's assignment._\n",
        "* Display both the test point and its nearest neighbor.\n",
        "* What label is predicted? Is this the correct label?"
      ]
    },
    {
      "cell_type": "code",
      "execution_count": 12,
      "metadata": {
        "collapsed": true,
        "id": "taqZGfO8qhCJ"
      },
      "outputs": [],
      "source": []
    },
    {
      "cell_type": "markdown",
      "metadata": {
        "id": "u319h16TqhCJ"
      },
      "source": [
        "## 6. Processing the full test set\n",
        "\n",
        "Now let's apply our nearest neighbor classifier over the full data set.\n",
        "\n",
        "Note that to classify each test point, our code takes a full pass over each of the 7500 training examples. Thus we should not expect testing to be very fast. The following code takes about 100-150 seconds on 2.6 GHz Intel Core i5."
      ]
    },
    {
      "cell_type": "code",
      "execution_count": 13,
      "metadata": {
        "id": "TqAA2SaDqhCJ",
        "outputId": "60f01b73-a4a4-4c61-8948-aa338db8b296",
        "colab": {
          "base_uri": "https://localhost:8080/"
        }
      },
      "outputs": [
        {
          "output_type": "stream",
          "name": "stdout",
          "text": [
            "Error of nearest neighbor classifier:  0.046\n",
            "Classification time (seconds):  46.633721351623535\n"
          ]
        }
      ],
      "source": [
        "## Predict on each test data point (and time it!)\n",
        "t_before = time.time()\n",
        "test_predictions = [NN_classifier(test_data[i,]) for i in range(len(test_labels))]\n",
        "t_after = time.time()\n",
        "\n",
        "## Compute the error\n",
        "err_positions = np.not_equal(test_predictions, test_labels)\n",
        "error = float(np.sum(err_positions))/len(test_labels)\n",
        "\n",
        "print(\"Error of nearest neighbor classifier: \", error)\n",
        "print(\"Classification time (seconds): \", t_after - t_before)"
      ]
    },
    {
      "cell_type": "markdown",
      "metadata": {
        "id": "Db4pZ1F6qhCK"
      },
      "source": [
        "## 7. Faster nearest neighbor methods\n",
        "\n",
        "Performing nearest neighbor classification in the way we have presented requires a full pass through the training set in order to classify a single point. If there are $N$ training points in $\\mathbb{R}^d$, this takes $O(N d)$ time.\n",
        "\n",
        "Fortunately, there are faster methods to perform nearest neighbor look up if we are willing to spend some time preprocessing the training set. `scikit-learn` has fast implementations of two useful nearest neighbor data structures: the _ball tree_ and the _k-d tree_."
      ]
    },
    {
      "cell_type": "code",
      "execution_count": 14,
      "metadata": {
        "id": "XldHiZlUqhCK",
        "outputId": "cf633a97-deaa-4a67-ec0c-21b715280b81",
        "colab": {
          "base_uri": "https://localhost:8080/"
        }
      },
      "outputs": [
        {
          "output_type": "stream",
          "name": "stdout",
          "text": [
            "Time to build data structure (seconds):  0.3448963165283203\n",
            "Time to classify test set (seconds):  8.849571704864502\n",
            "Ball tree produces same predictions as above?  True\n"
          ]
        }
      ],
      "source": [
        "from sklearn.neighbors import BallTree\n",
        "\n",
        "## Build nearest neighbor structure on training data\n",
        "t_before = time.time()\n",
        "ball_tree = BallTree(train_data)\n",
        "t_after = time.time()\n",
        "\n",
        "## Compute training time\n",
        "t_training = t_after - t_before\n",
        "print(\"Time to build data structure (seconds): \", t_training)\n",
        "\n",
        "## Get nearest neighbor predictions on testing data\n",
        "t_before = time.time()\n",
        "test_neighbors = np.squeeze(ball_tree.query(test_data, k=1, return_distance=False))\n",
        "ball_tree_predictions = train_labels[test_neighbors]\n",
        "t_after = time.time()\n",
        "\n",
        "## Compute testing time\n",
        "t_testing = t_after - t_before\n",
        "print(\"Time to classify test set (seconds): \", t_testing)\n",
        "\n",
        "## Verify that the predictions are the same\n",
        "print(\"Ball tree produces same predictions as above? \", np.array_equal(test_predictions, ball_tree_predictions))"
      ]
    },
    {
      "cell_type": "code",
      "execution_count": 15,
      "metadata": {
        "id": "BnQO1ekXqhCL",
        "outputId": "1bd0a54f-cf3b-4fc0-db63-766731fa1f24",
        "colab": {
          "base_uri": "https://localhost:8080/"
        }
      },
      "outputs": [
        {
          "output_type": "stream",
          "name": "stdout",
          "text": [
            "Time to build data structure (seconds):  0.5350754261016846\n",
            "Time to classify test set (seconds):  10.598125696182251\n",
            "KD tree produces same predictions as above?  True\n"
          ]
        }
      ],
      "source": [
        "from sklearn.neighbors import KDTree\n",
        "\n",
        "## Build nearest neighbor structure on training data\n",
        "t_before = time.time()\n",
        "kd_tree = KDTree(train_data)\n",
        "t_after = time.time()\n",
        "\n",
        "## Compute training time\n",
        "t_training = t_after - t_before\n",
        "print(\"Time to build data structure (seconds): \", t_training)\n",
        "\n",
        "## Get nearest neighbor predictions on testing data\n",
        "t_before = time.time()\n",
        "test_neighbors = np.squeeze(kd_tree.query(test_data, k=1, return_distance=False))\n",
        "kd_tree_predictions = train_labels[test_neighbors]\n",
        "t_after = time.time()\n",
        "\n",
        "## Compute testing time\n",
        "t_testing = t_after - t_before\n",
        "print(\"Time to classify test set (seconds): \", t_testing)\n",
        "\n",
        "## Verify that the predictions are the same\n",
        "print(\"KD tree produces same predictions as above? \", np.array_equal(test_predictions, kd_tree_predictions))"
      ]
    },
    {
      "cell_type": "code",
      "source": [],
      "metadata": {
        "id": "-3KsLcAlre03"
      },
      "execution_count": null,
      "outputs": []
    }
  ],
  "metadata": {
    "anaconda-cloud": {},
    "kernelspec": {
      "display_name": "Python 2",
      "language": "python",
      "name": "python2"
    },
    "language_info": {
      "codemirror_mode": {
        "name": "ipython",
        "version": 2
      },
      "file_extension": ".py",
      "mimetype": "text/x-python",
      "name": "python",
      "nbconvert_exporter": "python",
      "pygments_lexer": "ipython2",
      "version": "2.7.13"
    },
    "toc": {
      "colors": {
        "hover_highlight": "#DAA520",
        "navigate_num": "#000000",
        "navigate_text": "#333333",
        "running_highlight": "#FF0000",
        "selected_highlight": "#FFD700",
        "sidebar_border": "#EEEEEE",
        "wrapper_background": "#FFFFFF"
      },
      "moveMenuLeft": true,
      "nav_menu": {
        "height": "153px",
        "width": "252px"
      },
      "navigate_menu": true,
      "number_sections": false,
      "sideBar": true,
      "threshold": 4,
      "toc_cell": false,
      "toc_section_display": "block",
      "toc_window_display": false,
      "widenNotebook": false
    },
    "colab": {
      "provenance": []
    }
  },
  "nbformat": 4,
  "nbformat_minor": 0
}